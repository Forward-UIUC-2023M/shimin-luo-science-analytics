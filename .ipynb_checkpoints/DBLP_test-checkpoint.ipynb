{
 "cells": [
  {
   "cell_type": "code",
   "execution_count": 2,
   "metadata": {
    "pycharm": {
     "name": "#%%\n"
    }
   },
   "outputs": [],
   "source": [
    "import csv\n",
    "import requests\n",
    "\n",
    "author_url_with_page = 'https://dblp.org/search/author/api?q={}&format=json'\n",
    "cnt_total = 0\n",
    "cnt_find_name = 0\n",
    "cnt_find_institution = 0\n",
    "is_find_DBLP = []"
   ]
  },
  {
   "cell_type": "code",
   "execution_count": null,
   "metadata": {
    "pycharm": {
     "name": "#%%\n"
    }
   },
   "outputs": [
    {
     "name": "stdout",
     "output_type": "stream",
     "text": [
      "Agouris,Peggy College of William Mary\n",
      "https://dblp.org/search/author/api?q=Agouris,Peggy&format=json\n",
      "{'author': 'Peggy Agouris', 'url': 'https://dblp.org/pid/a/PAgouris'}\n",
      "Chaparro,Oscar College of William Mary\n",
      "https://dblp.org/search/author/api?q=Chaparro,Oscar&format=json\n",
      "{'author': 'Oscar Roberto Chaparro-Amaro', 'url': 'https://dblp.org/pid/315/3830'}\n",
      "Davis,Tim College of William Mary\n",
      "https://dblp.org/search/author/api?q=Davis,Tim&format=json\n",
      "{'author': 'Tim Davis 0001', 'aliases': {'alias': 'Timothy Davis'}, 'notes': {'note': {'@type': 'affiliation', 'text': 'Texas A&amp;M University, TX, USA'}}, 'url': 'https://dblp.org/pid/86/7192-1'}\n",
      "Deverick,James College of William Mary\n",
      "https://dblp.org/search/author/api?q=Deverick,James&format=json\n",
      "{'author': 'James Deverick', 'url': 'https://dblp.org/pid/29/338'}\n",
      "Evtyushkin,Dmitry College of William Mary\n",
      "https://dblp.org/search/author/api?q=Evtyushkin,Dmitry&format=json\n",
      "{'author': 'Dmitry Evtyushkin', 'url': 'https://dblp.org/pid/17/10107'}\n",
      "Hu,Tianran College of William Mary\n",
      "https://dblp.org/search/author/api?q=Hu,Tianran&format=json\n",
      "{'author': 'Tianran Hu', 'url': 'https://dblp.org/pid/28/10243'}\n",
      "Jog,Adwait College of William Mary\n",
      "https://dblp.org/search/author/api?q=Jog,Adwait&format=json\n"
     ]
    }
   ],
   "source": [
    "with open('../week 1/faculty_dataset_week2/faculty.csv', 'r') as file:\n",
    "    csv_reader = csv.reader(file)\n",
    "\n",
    "    for row in csv_reader:\n",
    "        author = row[0]\n",
    "        institution = row[1]\n",
    "\n",
    "        if author in is_find_DBLP:\n",
    "            print(\"continue\")\n",
    "            continue\n",
    "\n",
    "        print(author+\" \"+ institution)\n",
    "        cnt_total = cnt_total + 1\n",
    "\n",
    "        # set page value and request page from OpenAlex\n",
    "        url = author_url_with_page.format(author)\n",
    "        print(url)\n",
    "\n",
    "        page_with_results = requests.get(url).json()\n",
    "\n",
    "        # loop through partial list of results\n",
    "        results = page_with_results['result']['hits']\n",
    "        is_find_DBLP.append(author)\n",
    "        if int(results['@total']) > 0:\n",
    "            cnt_find_name = cnt_find_name + 1\n",
    "        # flag = False\n",
    "            res = results['hit'][0]['info']\n",
    "            print(res)\n",
    "            if 'notes' in res:\n",
    "                if 'note' in res['notes']:\n",
    "                    # if len(res['notes']['note']) > 0 and res['notes']['note'][0]['@type'] == 'affiliation':\n",
    "                    cnt_find_institution = cnt_find_institution + 1\n",
    "\n",
    "    print(\"totally find: \" + str(cnt_total))\n",
    "    print(\"find: \" + str(cnt_find_name))\n",
    "    print(\"faculty with affiliation: \" + str(cnt_find_institution))"
   ]
  },
  {
   "cell_type": "code",
   "execution_count": 10,
   "metadata": {
    "pycharm": {
     "name": "#%%\n"
    }
   },
   "outputs": [
    {
     "name": "stdout",
     "output_type": "stream",
     "text": [
      "totally find: 1486\n",
      "find: 1366\n",
      "faculty with affiliation: 682\n"
     ]
    }
   ],
   "source": [
    "print(\"totally find: \" + str(cnt_total))\n",
    "print(\"find: \" + str(cnt_find_name))\n",
    "print(\"faculty with affiliation: \" + str(cnt_find_institution))"
   ]
  }
 ],
 "metadata": {
  "kernelspec": {
   "display_name": "Python 3 (ipykernel)",
   "language": "python",
   "name": "python3"
  },
  "language_info": {
   "codemirror_mode": {
    "name": "ipython",
    "version": 3
   },
   "file_extension": ".py",
   "mimetype": "text/x-python",
   "name": "python",
   "nbconvert_exporter": "python",
   "pygments_lexer": "ipython3",
   "version": "3.9.13"
  }
 },
 "nbformat": 4,
 "nbformat_minor": 1
}
