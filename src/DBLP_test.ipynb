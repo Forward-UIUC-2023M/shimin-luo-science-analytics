{
 "cells": [
  {
   "cell_type": "code",
   "execution_count": null,
   "metadata": {
    "pycharm": {
     "name": "#%%\n"
    }
   },
   "outputs": [],
   "source": [
    "import csv\n",
    "import requests\n",
    "\n",
    "author_url = 'https://dblp.org/search/author/api?q={}&format=json'\n",
    "cnt_total = 0\n",
    "cnt_find_name = 0\n",
    "cnt_find_institution = 0\n",
    "is_find_DBLP = []"
   ]
  },
  {
   "cell_type": "code",
   "execution_count": null,
   "metadata": {
    "pycharm": {
     "name": "#%%\n"
    }
   },
   "outputs": [],
   "source": [
    "with open('../week 1/faculty_dataset_week2/faculty.csv', 'r') as file:\n",
    "    csv_reader = csv.reader(file)\n",
    "\n",
    "    for row in csv_reader:\n",
    "        author = row[0]\n",
    "        institution = row[1]\n",
    "\n",
    "        if author in is_find_DBLP:\n",
    "            print(\"continue\")\n",
    "            continue\n",
    "\n",
    "        print(author+\" \"+ institution)\n",
    "        cnt_total = cnt_total + 1\n",
    "\n",
    "        # set page value and request page from OpenAlex\n",
    "        url = author_url.format(author)\n",
    "        print(url)\n",
    "\n",
    "        page_with_results = requests.get(url).json()\n",
    "\n",
    "        # loop through partial list of results\n",
    "        results = page_with_results['result']['hits']\n",
    "        is_find_DBLP.append(author)\n",
    "        if int(results['@total']) > 0:\n",
    "            cnt_find_name = cnt_find_name + 1\n",
    "        # flag = False\n",
    "            res = results['hit'][0]['info']\n",
    "            print(res)\n",
    "            if 'notes' in res:\n",
    "                if 'note' in res['notes']:\n",
    "                    # if len(res['notes']['note']) > 0 and res['notes']['note'][0]['@type'] == 'affiliation':\n",
    "                    cnt_find_institution = cnt_find_institution + 1\n",
    "\n",
    "    print(\"totally find: \" + str(cnt_total))\n",
    "    print(\"find: \" + str(cnt_find_name))\n",
    "    print(\"faculty with affiliation: \" + str(cnt_find_institution))"
   ]
  },
  {
   "cell_type": "code",
   "execution_count": null,
   "metadata": {
    "pycharm": {
     "name": "#%%\n"
    }
   },
   "outputs": [],
   "source": [
    "print(\"totally find: \" + str(cnt_total))\n",
    "print(\"find: \" + str(cnt_find_name))\n",
    "print(\"faculty with affiliation: \" + str(cnt_find_institution))"
   ]
  }
 ],
 "metadata": {
  "kernelspec": {
   "display_name": "Python 3 (ipykernel)",
   "language": "python",
   "name": "python3"
  },
  "language_info": {
   "codemirror_mode": {
    "name": "ipython",
    "version": 3
   },
   "file_extension": ".py",
   "mimetype": "text/x-python",
   "name": "python",
   "nbconvert_exporter": "python",
   "pygments_lexer": "ipython3",
   "version": "3.9.13"
  }
 },
 "nbformat": 4,
 "nbformat_minor": 1
}