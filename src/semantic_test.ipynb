{
 "cells": [
  {
   "cell_type": "code",
   "execution_count": 1,
   "metadata": {
    "pycharm": {
     "is_executing": true,
     "name": "#%%\n"
    }
   },
   "outputs": [],
   "source": [
    "cnt_total = 0\n",
    "cnt_find_name = 0\n",
    "cnt_find_institution = 0\n",
    "is_find_semantic = []"
   ]
  },
  {
   "cell_type": "code",
   "execution_count": null,
   "metadata": {
    "pycharm": {
     "is_executing": true,
     "name": "#%%\n"
    }
   },
   "outputs": [],
   "source": [
    "import csv\n",
    "import requests\n",
    "\n",
    "author_url = 'https://api.semanticscholar.org/graph/v1/author/search?query={}&fields=name,affiliations'\n",
    "\n",
    "with open('../week 1/faculty_dataset_week2/faculty.csv', 'r') as file:\n",
    "    csv_reader = csv.reader(file)\n",
    "\n",
    "\n",
    "# output_file = \"find_semantic_info.txt\"\n",
    "# with open(output_file, 'a') as file:\n",
    "    for row in csv_reader:\n",
    "        author = row[0]\n",
    "        institution = row[1]\n",
    "\n",
    "        if author in is_find_semantic:\n",
    "            print(\"continue\")\n",
    "            continue\n",
    "\n",
    "        print(author+\" \"+ institution)\n",
    "        cnt_total = cnt_total + 1\n",
    "\n",
    "        # set page value and request page from OpenAlex\n",
    "        url = author_url.format(author)\n",
    "        print(url)\n",
    "\n",
    "        page_with_results = requests.get(url).json()\n",
    "\n",
    "        # loop through partial list of results\n",
    "        results = page_with_results['data']\n",
    "        is_find_semantic.append(author)\n",
    "        if len(results)>0:\n",
    "            cnt_find_name = cnt_find_name + 1\n",
    "        # flag = False\n",
    "        for i,res in enumerate(results):\n",
    "            if 'affiliations' in res:\n",
    "                if len(res['affiliations']) > 0:\n",
    "                    cnt_find_institution = cnt_find_institution + 1\n",
    "                    break\n",
    "\n",
    "    print(\"totally find: \" + str(cnt_total))\n",
    "    print(\"find: \" + str(cnt_find_name))\n",
    "    print(\"faculty with affiliation: \" + str(cnt_find_institution))"
   ]
  },
  {
   "cell_type": "code",
   "execution_count": 3,
   "metadata": {
    "pycharm": {
     "is_executing": true,
     "name": "#%%\n"
    }
   },
   "outputs": [
    {
     "name": "stdout",
     "output_type": "stream",
     "text": [
      "totally find: 5593\n",
      "find: 5133\n",
      "faculty with affiliation: 422\n"
     ]
    }
   ],
   "source": [
    "print(\"totally find: \" + str(cnt_total))\n",
    "print(\"find: \" + str(cnt_find_name))\n",
    "print(\"faculty with affiliation: \" + str(cnt_find_institution))"
   ]
  }
 ],
 "metadata": {
  "kernelspec": {
   "display_name": "Python 3 (ipykernel)",
   "language": "python",
   "name": "python3"
  },
  "language_info": {
   "codemirror_mode": {
    "name": "ipython",
    "version": 3
   },
   "file_extension": ".py",
   "mimetype": "text/x-python",
   "name": "python",
   "nbconvert_exporter": "python",
   "pygments_lexer": "ipython3",
   "version": "3.9.13"
  }
 },
 "nbformat": 4,
 "nbformat_minor": 1
}
