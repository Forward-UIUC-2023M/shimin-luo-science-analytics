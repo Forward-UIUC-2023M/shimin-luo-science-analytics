{
 "cells": [
  {
   "cell_type": "code",
   "execution_count": 1,
   "metadata": {
    "pycharm": {
     "name": "#%%\n"
    }
   },
   "outputs": [],
   "source": [
    "import numpy as np\n",
    "import time\n",
    "import random"
   ]
  },
  {
   "cell_type": "code",
   "execution_count": 108,
   "metadata": {
    "pycharm": {
     "name": "#%%\n"
    }
   },
   "outputs": [],
   "source": [
    "def mvrsample(A, **kwargs):\n",
    "    \n",
    "    # Check the input adjacent matrix\n",
    "    if A.size == 0 or A.shape[0] != A.shape[1]:\n",
    "        print('Error: input ''A'' must be a non-empty square matrix.')\n",
    "        return\n",
    "    \n",
    "    if np.any(A<0) or (np.setdiff1d(A, np.floor(A)).size > 0):\n",
    "        print('Error: input ''A'' elements must be natural numbers.')\n",
    "        return\n",
    "    \n",
    "    # Initialize\n",
    "    n = A.shape[0] # node\n",
    "    m = A.sum() # edge\n",
    "    \n",
    "    s_rate = n # sampling interval\n",
    "    n_samp = n\n",
    "    Tb     = n*n # warm start\n",
    "    quiet  = False\n",
    "        \n",
    "    if not quiet:\n",
    "        print('Minimum violation ranking sampler')\n",
    "        print('   nodes, n = %i' % n)\n",
    "        print('   edges, m = %i' % m)\n",
    "        print('   steps between samples   = %i' % s_rate)\n",
    "        print('   target sample count     = %i' % n_samp)\n",
    "    \n",
    "    # initialize the ranking out-degree, in decreasing order\n",
    "    kout = np.sum(A, axis=1)  # sum row, get the out-degrees\n",
    "    I = np.argsort(kout)[::-1]  # sort them（descending order), return index\n",
    "    h = np.zeros(n, dtype=int)  # the ranking vector\n",
    "    for i in range(n):\n",
    "        h[I[i]] = i  # update the ranking vector\n",
    "\n",
    "    # initialize the MVR score（defined as the number of non-violate edge)              \n",
    "    score = m\n",
    "    for i in range(n):\n",
    "        for j in range(n):\n",
    "            if A[i,j] > 0:\n",
    "                if h[i] > h[j]:\n",
    "                    score -= A[i, j]        \n",
    "    print(\"score： \"+ str(score))\n",
    "    \n",
    "    if not quiet:\n",
    "        print('[t=%4.0f] violations = %i (%3.1f%%)\\twarm-start_rest: %i\\n' % (\n",
    "            1, m - score, 100 * (1 - score / m), Tb))\n",
    "    maxs = score\n",
    "\n",
    "    # zero-temperature MCMC (Markov chain Monte Carlo method) sampler\n",
    "    rs = np.zeros((n, n_samp))  \n",
    "    k = 0 # Sampling counter\n",
    "    T = Tb + n_samp * s_rate\n",
    "    t = 0  \n",
    "\n",
    "    while True:\n",
    "        t += 1\n",
    "        #  check stopping criteria\n",
    "        if t > T: \n",
    "            break\n",
    "        \n",
    "        # choose 2 positions to swap\n",
    "        h2 = h.copy()\n",
    "        p1 = np.random.randint(n)\n",
    "        p2 = p1\n",
    "        while p1 == p2:\n",
    "            p1 = np.random.randint(n)\n",
    "            p2 = np.random.randint(n)\n",
    "            \n",
    "        temp1, temp2 = h2[p1], h2[p2]\n",
    "        h2[p1], h2[p2] = temp2, temp1\n",
    "        \n",
    "        # calculate new score\n",
    "        new = m\n",
    "        for i in range(n):\n",
    "            for j in range(n):\n",
    "                if A[i,j] > 0:\n",
    "                    if h2[i] > h2[j]:\n",
    "                        new -= A[i, j]\n",
    "                        \n",
    "        # Determines whether to replace the original ranking\n",
    "        if new > maxs:\n",
    "            h = h2.copy() \n",
    "            maxs = new\n",
    "            if not quiet and t > Tb:\n",
    "                print(f'[t={t}] violations = {m-maxs} ({100*(1-score/m):3.1f}%) found a better MVR; restarting sampling')\n",
    "            # The sample is cleared and resampled for better results\n",
    "            if t > Tb:\n",
    "                k, t = 0, Tb+1\n",
    "            \n",
    "            \n",
    "        # Sampling\n",
    "        if t > Tb and t % s_rate == 0:\n",
    "            rs[:, k] = h.copy() \n",
    "            k += 1 \n",
    "\n",
    "        # update the best result to user\n",
    "        if t % 1000 == 0:\n",
    "            if not quiet:\n",
    "                if t <= Tb:\n",
    "                    print('[t=%i] violations = %i (%3.1f%%)\\twarm-start_rest: %i' % \n",
    "                          (t, m-maxs, 100*(1-maxs/m), Tb-t))\n",
    "                else:\n",
    "                    print('[t=%i] violations = %i (%3.1f%%)\\tsamples: %i' % \n",
    "                          (t, m-maxs, 100*(1-maxs/m), k))\n",
    "\n",
    "        # Recheck stopping criteria\n",
    "        if t > T:\n",
    "            break\n",
    "\n",
    "    # Store the results\n",
    "    pi = np.zeros((n, 1)) # mean of ranks across MVR samples\n",
    "    pi[:, 0] = np.mean(rs, axis=1)\n",
    "    \n",
    "    # assign the rank according to the mean\n",
    "    ranks = np.column_stack(((np.arange(n)), np.mean(pi, axis=1)))\n",
    "    ranks = ranks[ranks[:,1].argsort()] # sort the second colume \n",
    "\n",
    "    I = np.argsort(np.mean(pi, axis=1))\n",
    "    h = np.zeros(n, dtype=int)\n",
    "    \n",
    "    for i in range(n):\n",
    "        h[I[i]] = i\n",
    "        \n",
    "    violate = 0\n",
    "    for i in range(n):\n",
    "        for j in range(n):\n",
    "            if A[i,j] > 0:\n",
    "                if h[i] > h[j]:\n",
    "                    violate += 1      \n",
    "    print('violate number： '+ str(violate))\n",
    "    # Fraction of edges that violate the ranking\n",
    "    rho = violate/m\n",
    "    print('violate rate: '+ str(rho))\n",
    "\n",
    "    return ranks"
   ]
  },
  {
   "cell_type": "code",
   "execution_count": null,
   "metadata": {
    "pycharm": {
     "name": "#%%\n"
    }
   },
   "outputs": [],
   "source": [
    "n = 205\n",
    "A = np.zeros((n, n))\n",
    "\n",
    "with open('../ComputerScience_edgelist.csv', 'r') as fileID:\n",
    "    while True:\n",
    "        line = fileID.readline()\n",
    "        if not line:\n",
    "            break\n",
    "        data = line.strip().split(',')\n",
    "        i = int(data[0])\n",
    "        j = int(data[1])\n",
    "        # index begin with 0\n",
    "        A[i-1, j-1] += 1\n",
    "fileID.close()\n",
    "\n",
    "ranks = mvrsample(A)\n",
    "\n",
    "with open('output_rank.txt', 'w') as f:\n",
    "    f.write('my rank  my score    supplementary material\\'s rank \\n')\n",
    "    for i in range(len(ranks)):\n",
    "        f.write(str(i)+ '\\t' + str(ranks[i][1])[0:7] + '\\t' + str(ranks[i][0])  + '\\n')"
   ]
  },
  {
   "cell_type": "code",
   "execution_count": 110,
   "metadata": {
    "pycharm": {
     "name": "#%%\n"
    }
   },
   "outputs": [
    {
     "name": "stdout",
     "output_type": "stream",
     "text": [
      "violate number： 484\n",
      "violate rate: 0.11030082041932543\n"
     ]
    }
   ],
   "source": [
    "m=4388\n",
    "\n",
    "cnt = 0\n",
    "with open('../ComputerScience_edgelist.csv', 'r') as fileID:\n",
    "    while True:\n",
    "        line = fileID.readline()\n",
    "        if not line:\n",
    "            break\n",
    "        data = line.strip().split(',')\n",
    "        i = int(data[0])\n",
    "        j = int(data[1])\n",
    "        if i > j:\n",
    "            cnt += 1\n",
    "fileID.close()\n",
    "\n",
    "print('violate number： '+ str(cnt))\n",
    "rho = cnt/m\n",
    "print('violate rate: '+ str(rho))"
   ]
  }
 ],
 "metadata": {
  "kernelspec": {
   "display_name": "Python 3 (ipykernel)",
   "language": "python",
   "name": "python3"
  },
  "language_info": {
   "codemirror_mode": {
    "name": "ipython",
    "version": 3
   },
   "file_extension": ".py",
   "mimetype": "text/x-python",
   "name": "python",
   "nbconvert_exporter": "python",
   "pygments_lexer": "ipython3",
   "version": "3.9.13"
  }
 },
 "nbformat": 4,
 "nbformat_minor": 2
}